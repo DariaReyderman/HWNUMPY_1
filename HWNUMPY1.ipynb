{
 "cells": [
  {
   "cell_type": "code",
   "execution_count": 19,
   "id": "d1389b9c-682b-42b8-9929-035020e02a1d",
   "metadata": {},
   "outputs": [
    {
     "name": "stdout",
     "output_type": "stream",
     "text": [
      "a [ 1  2  3  4  5  6  7  8  9 10]\n",
      "b [0.5  0.75 1.   1.25 1.5  1.75 2.   2.25 2.5  2.75 3.   3.25 3.5  3.75\n",
      " 4.   4.25 4.5  4.75 5.   5.25 5.5  5.75]\n"
     ]
    }
   ],
   "source": [
    "import numpy as np\n",
    "# 1\n",
    "print(\"a\", np.arange(1, 10 + 1))\n",
    "print(\"b\", np.arange(0.5, 5 + 1, 0.25))"
   ]
  },
  {
   "cell_type": "code",
   "execution_count": 21,
   "id": "8ebabbd4-e34c-45ca-bd00-07cf155aba65",
   "metadata": {},
   "outputs": [
    {
     "name": "stdout",
     "output_type": "stream",
     "text": [
      "a [0 0 0 0 0 0 0 0 0 0]\n",
      "b [[0 0 0 0]\n",
      " [0 0 0 0]\n",
      " [0 0 0 0]]\n"
     ]
    }
   ],
   "source": [
    "# 2\n",
    "print(\"a\", np.zeros(10, dtype = int))\n",
    "print(\"b\", np.zeros((3, 4), dtype = int))"
   ]
  },
  {
   "cell_type": "code",
   "execution_count": 23,
   "id": "2f853dd7-7465-42ad-b966-87d10bd603ec",
   "metadata": {},
   "outputs": [
    {
     "name": "stdout",
     "output_type": "stream",
     "text": [
      "a [ 2  4  7  9 12]\n",
      "b [3 5 7 9]\n"
     ]
    }
   ],
   "source": [
    "# 3\n",
    "print(\"a\", np.linspace(2, 12, 5, dtype = int))\n",
    "print(\"b\", np.linspace(3, 9, 4, dtype = int))"
   ]
  },
  {
   "cell_type": "code",
   "execution_count": 43,
   "id": "a4a4e994-b878-45c4-9beb-71940d44a588",
   "metadata": {},
   "outputs": [
    {
     "name": "stdout",
     "output_type": "stream",
     "text": [
      "a [[0.65 0.7 ]\n",
      " [0.89 0.6 ]\n",
      " [0.5  0.71]\n",
      " [0.27 0.49]]\n",
      "b [[17 14 14]\n",
      " [10 18 17]\n",
      " [12 19 18]]\n",
      "c [[0.6534314 ]\n",
      " [0.70113727]\n",
      " [0.89106851]\n",
      " [0.59943212]\n",
      " [0.50128619]\n",
      " [0.70598837]\n",
      " [0.27453949]\n",
      " [0.48907476]]\n"
     ]
    }
   ],
   "source": [
    "# 4\n",
    "l1 = np.random.rand(4, 2)\n",
    "print(\"a\", np.round(l1, 2))\n",
    "print(\"b\", np.random.randint(10, 20 + 1, (3, 3)))\n",
    "print(\"c\", np.reshape(l1, (8, 1)))\n",
    "\n",
    "# When using \"reshape\" it is important to note that the new matrix must be of the appropriate size."
   ]
  },
  {
   "cell_type": "markdown",
   "id": "e93edbb3-8b1e-44fb-a02f-20acc8eec461",
   "metadata": {},
   "source": [
    "# 5\n",
    "# Constant seed value will always produce the same sequence of random numbers.\n",
    "\n",
    "## The advantage of using seed() is that it allows you to capture a sequence of random numbers. This can help in:\n",
    "\n",
    "- machine learning (to compare models on the same data),\n",
    "  \n",
    "- testing (to check that the code works correctly),\n",
    "\n",
    "- scientific computing (to reproduce the results of an experiment)."
   ]
  }
 ],
 "metadata": {
  "kernelspec": {
   "display_name": "Python 3 (ipykernel)",
   "language": "python",
   "name": "python3"
  },
  "language_info": {
   "codemirror_mode": {
    "name": "ipython",
    "version": 3
   },
   "file_extension": ".py",
   "mimetype": "text/x-python",
   "name": "python",
   "nbconvert_exporter": "python",
   "pygments_lexer": "ipython3",
   "version": "3.12.4"
  }
 },
 "nbformat": 4,
 "nbformat_minor": 5
}
